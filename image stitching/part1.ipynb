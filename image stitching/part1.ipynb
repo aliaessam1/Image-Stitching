{
 "cells": [
  {
   "cell_type": "code",
   "execution_count": 1,
   "metadata": {},
   "outputs": [],
   "source": [
    "import cv2\n",
    "import math\n",
    "import numpy as np\n",
    "import matplotlib.pyplot as plt\n",
    "import os\n",
    "import tempfile"
   ]
  },
  {
   "cell_type": "code",
   "execution_count": 2,
   "metadata": {},
   "outputs": [],
   "source": [
    "# Function to get keypoint correspondences between frames and the book image\n",
    "def get_correspondences(frame1, book_img, num_correspondences=50):\n",
    "    sift = cv2.SIFT_create()\n",
    "    kp1, des1 = sift.detectAndCompute(book_img, None)\n",
    "    kp2, des2 = sift.detectAndCompute(frame1, None)\n",
    "\n",
    "    bf = cv2.BFMatcher()\n",
    "    matches = bf.knnMatch(des1, des2, k=2)\n",
    "\n",
    "    good_matches = []\n",
    "    for m, n in matches:\n",
    "        if m.distance < 0.25 * n.distance:\n",
    "            good_matches.append(m)\n",
    "\n",
    "    good_matches = good_matches[:num_correspondences]\n",
    "\n",
    "    # Save the correspondences \n",
    "    pts1 = np.float32([kp1[m.queryIdx].pt for m in good_matches]).reshape(-1, 1, 2)\n",
    "    pts2 = np.float32([kp2[m.trainIdx].pt for m in good_matches]).reshape(-1, 1, 2)\n",
    "   \n",
    "    return pts1, pts2"
   ]
  },
  {
   "cell_type": "code",
   "execution_count": 3,
   "metadata": {},
   "outputs": [],
   "source": [
    "# Function to compute homography matrix from point correspondences\n",
    "def compute_homography(pts1, pts2):\n",
    "    A = []\n",
    "    for i in range(len(pts1)):\n",
    "        x, y = pts1[i][0], pts1[i][1]\n",
    "        u, v = pts2[i][0], pts2[i][1]\n",
    "        A.append([-x, -y, -1, 0, 0, 0, u*x, u*y, u])\n",
    "        A.append([0, 0, 0, -x, -y, -1, v*x, v*y, v])\n",
    "\n",
    "    A = np.asarray(A)\n",
    "    U, S, Vh = np.linalg.svd(A)\n",
    "    H = Vh[-1, :].reshape(3, 3)\n",
    "    # Normalize H (optional)\n",
    "    H /= H[2, 2]\n",
    "    return H"
   ]
  },
  {
   "cell_type": "code",
   "execution_count": 4,
   "metadata": {},
   "outputs": [],
   "source": [
    "# Function to map points using a homography matrix\n",
    "def map_points_with_homography(H, points):\n",
    "    points_homogeneous = np.hstack((points, np.ones((len(points), 1))))\n",
    "    mapped_points_homogeneous = np.dot(H, points_homogeneous.T)\n",
    "    # Normalize homogeneous coordinates\n",
    "    mapped_points = mapped_points_homogeneous[:2, :] / mapped_points_homogeneous[2, :].reshape(1, -1)\n",
    "    return mapped_points.T"
   ]
  },
  {
   "cell_type": "code",
   "execution_count": 5,
   "metadata": {},
   "outputs": [],
   "source": [
    "# RANSAC to find the best homography using inliers\n",
    "def RANSAC(pts1, pts2, num_iterations=1000, min_set_size=4, inlier_threshold=.5, min_inliers=45):\n",
    "    best_H = None\n",
    "    max_inliers = 0\n",
    "    num_correspondences = len(pts1)\n",
    "    np.random.seed(42)\n",
    "    for i in range(num_iterations):\n",
    "        random_indices = np.random.choice(num_correspondences, size=min_set_size, replace=False)\n",
    "        sampled_pts1 = pts1[random_indices]\n",
    "        sampled_pts2 = pts2[random_indices]\n",
    "\n",
    "        initial_H = compute_homography(sampled_pts1, sampled_pts2)\n",
    "        transformed_points = map_points_with_homography(initial_H, pts1)\n",
    "\n",
    "        errors = np.sqrt(np.sum((transformed_points - pts2)**2, axis=1))\n",
    "        inliers = np.sum(errors < inlier_threshold)\n",
    "\n",
    "        if inliers > max_inliers:\n",
    "            max_inliers = inliers\n",
    "            best_H = initial_H\n",
    "\n",
    "        if max_inliers > min_inliers:\n",
    "            break\n",
    "\n",
    "    return best_H"
   ]
  },
  {
   "cell_type": "code",
   "execution_count": 6,
   "metadata": {},
   "outputs": [],
   "source": [
    "# Function to crop and fit the AR video frame to the book region\n",
    "def crop_ar_video_frame(video_frame, book_corners):\n",
    "    \n",
    "    # Calculate the target width and height from book corners\n",
    "    book_width = int(book_corners[1][0] - book_corners[0][0])\n",
    "    book_height = int(book_corners[3][1] - book_corners[0][1])\n",
    "\n",
    "    # Resize the AR video frame to exactly match the book region\n",
    "    resized_frame = cv2.resize(video_frame, (book_width, book_height), interpolation=cv2.INTER_AREA)\n",
    "\n",
    "    return resized_frame\n"
   ]
  },
  {
   "cell_type": "code",
   "execution_count": 7,
   "metadata": {},
   "outputs": [],
   "source": [
    "# Function to overlay the frames of the book and AR video\n",
    "def overlay_frames(frame1, frame2, H, book_corners):\n",
    "    book_coordinates_video = map_points_with_homography(H, book_corners)\n",
    "\n",
    "    mask = np.zeros_like(frame1, dtype=np.uint8)\n",
    "    cv2.fillPoly(mask, [np.int32(book_coordinates_video)], (255, 255, 255))\n",
    "\n",
    "    inverted_mask = cv2.bitwise_not(mask)\n",
    "\n",
    "    frame1_blacked = cv2.bitwise_and(frame1, inverted_mask)\n",
    "\n",
    "    overlay_frame = cv2.warpPerspective(frame2, H, (frame1.shape[1], frame1.shape[0]))\n",
    "\n",
    "    result = cv2.add(frame1_blacked, overlay_frame)\n",
    "\n",
    "    return result"
   ]
  },
  {
   "cell_type": "code",
   "execution_count": 8,
   "metadata": {},
   "outputs": [],
   "source": [
    "# Function to process video and overlay AR onto book\n",
    "def process_video(video1_path, video2_path, book_img_path):\n",
    "    \n",
    "    # Open the video files\n",
    "    video1 = cv2.VideoCapture(video1_path)\n",
    "    video2 = cv2.VideoCapture(video2_path)\n",
    "\n",
    "    # Load the book image\n",
    "    book_img = cv2.imread(book_img_path)\n",
    "\n",
    "    if book_img is None:\n",
    "        raise ValueError(\"Image not found at path: \" + book_img_path)\n",
    "\n",
    "    # Set up the video writer\n",
    "    width = int(video1.get(3))\n",
    "    height = int(video1.get(4))\n",
    "    fourcc = cv2.VideoWriter_fourcc(*'XVID')\n",
    "    \n",
    "    # Define the output path in the same directory\n",
    "    output_path = 'output_video_edited.avi'\n",
    "    \n",
    "    output_video = cv2.VideoWriter(output_path, fourcc, 30.0, (width, height))\n",
    "\n",
    "    # Define the book corners\n",
    "    book_corners = np.array([[0, 0],\n",
    "                             [book_img.shape[1] - 1, 0],\n",
    "                             [book_img.shape[1] - 1, (book_img.shape[0] - 1)],\n",
    "                             [0, (book_img.shape[0] - 1)]],\n",
    "                            dtype=np.float32)\n",
    "\n",
    "    # Main processing loop\n",
    "    while True:\n",
    "        ret1, frame1 = video1.read()\n",
    "        ret2, frame2 = video2.read()\n",
    "\n",
    "        if not ret1 or not ret2:\n",
    "            break\n",
    "\n",
    "        # Get correspondences for each frame\n",
    "        pts_book, pts_video = get_correspondences(frame1, book_img)\n",
    "\n",
    "        # Calculate homography matrix\n",
    "        H = RANSAC(np.squeeze(pts_book), np.squeeze(pts_video))\n",
    "\n",
    "        # Crop the video frame centered on the book\n",
    "        cropped_video_frame = crop_ar_video_frame(frame2, book_corners)\n",
    "\n",
    "        # Overlay frames and write to the output video\n",
    "        result_frame = overlay_frames(frame1, cropped_video_frame, H, book_corners)\n",
    "        output_video.write(result_frame)\n",
    "\n",
    "    # Release video captures and writer\n",
    "    video1.release()\n",
    "    video2.release()\n",
    "    output_video.release()\n",
    "\n",
    "    return output_path"
   ]
  },
  {
   "cell_type": "code",
   "execution_count": 9,
   "metadata": {},
   "outputs": [
    {
     "name": "stdout",
     "output_type": "stream",
     "text": [
      "Output video saved to: output_video_edited.avi\n"
     ]
    }
   ],
   "source": [
    "video1_path = \"book.mov\"\n",
    "video2_path = \"ar_source_edited.mov\"\n",
    "book_img_path = \"cv_cover.jpg\"\n",
    "\n",
    "output_path = process_video(video1_path, video2_path, book_img_path)\n",
    "\n",
    "print(f\"Output video saved to: {output_path}\")"
   ]
  }
 ],
 "metadata": {
  "kernelspec": {
   "display_name": ".conda",
   "language": "python",
   "name": "python3"
  },
  "language_info": {
   "codemirror_mode": {
    "name": "ipython",
    "version": 3
   },
   "file_extension": ".py",
   "mimetype": "text/x-python",
   "name": "python",
   "nbconvert_exporter": "python",
   "pygments_lexer": "ipython3",
   "version": "3.10.14"
  }
 },
 "nbformat": 4,
 "nbformat_minor": 2
}
